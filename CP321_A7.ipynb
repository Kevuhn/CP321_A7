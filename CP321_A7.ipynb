{
  "nbformat": 4,
  "nbformat_minor": 0,
  "metadata": {
    "colab": {
      "provenance": []
    },
    "kernelspec": {
      "name": "python3",
      "display_name": "Python 3"
    },
    "language_info": {
      "name": "python"
    }
  },
  "cells": [
    {
      "cell_type": "code",
      "source": [
        "!pip install dash"
      ],
      "metadata": {
        "colab": {
          "base_uri": "https://localhost:8080/"
        },
        "id": "smp4WyXuRCQU",
        "outputId": "0e542aaa-8082-43c0-d269-7ae39c8110f0"
      },
      "execution_count": 1,
      "outputs": [
        {
          "output_type": "stream",
          "name": "stdout",
          "text": [
            "Collecting dash\n",
            "  Downloading dash-3.0.1-py3-none-any.whl.metadata (10 kB)\n",
            "Collecting Flask<3.1,>=1.0.4 (from dash)\n",
            "  Downloading flask-3.0.3-py3-none-any.whl.metadata (3.2 kB)\n",
            "Collecting Werkzeug<3.1 (from dash)\n",
            "  Downloading werkzeug-3.0.6-py3-none-any.whl.metadata (3.7 kB)\n",
            "Requirement already satisfied: plotly>=5.0.0 in /usr/local/lib/python3.11/dist-packages (from dash) (5.24.1)\n",
            "Requirement already satisfied: importlib-metadata in /usr/local/lib/python3.11/dist-packages (from dash) (8.6.1)\n",
            "Requirement already satisfied: typing-extensions>=4.1.1 in /usr/local/lib/python3.11/dist-packages (from dash) (4.12.2)\n",
            "Requirement already satisfied: requests in /usr/local/lib/python3.11/dist-packages (from dash) (2.32.3)\n",
            "Collecting retrying (from dash)\n",
            "  Downloading retrying-1.3.4-py3-none-any.whl.metadata (6.9 kB)\n",
            "Requirement already satisfied: nest-asyncio in /usr/local/lib/python3.11/dist-packages (from dash) (1.6.0)\n",
            "Requirement already satisfied: setuptools in /usr/local/lib/python3.11/dist-packages (from dash) (75.1.0)\n",
            "Requirement already satisfied: Jinja2>=3.1.2 in /usr/local/lib/python3.11/dist-packages (from Flask<3.1,>=1.0.4->dash) (3.1.6)\n",
            "Requirement already satisfied: itsdangerous>=2.1.2 in /usr/local/lib/python3.11/dist-packages (from Flask<3.1,>=1.0.4->dash) (2.2.0)\n",
            "Requirement already satisfied: click>=8.1.3 in /usr/local/lib/python3.11/dist-packages (from Flask<3.1,>=1.0.4->dash) (8.1.8)\n",
            "Requirement already satisfied: blinker>=1.6.2 in /usr/local/lib/python3.11/dist-packages (from Flask<3.1,>=1.0.4->dash) (1.9.0)\n",
            "Requirement already satisfied: tenacity>=6.2.0 in /usr/local/lib/python3.11/dist-packages (from plotly>=5.0.0->dash) (9.0.0)\n",
            "Requirement already satisfied: packaging in /usr/local/lib/python3.11/dist-packages (from plotly>=5.0.0->dash) (24.2)\n",
            "Requirement already satisfied: MarkupSafe>=2.1.1 in /usr/local/lib/python3.11/dist-packages (from Werkzeug<3.1->dash) (3.0.2)\n",
            "Requirement already satisfied: zipp>=3.20 in /usr/local/lib/python3.11/dist-packages (from importlib-metadata->dash) (3.21.0)\n",
            "Requirement already satisfied: charset-normalizer<4,>=2 in /usr/local/lib/python3.11/dist-packages (from requests->dash) (3.4.1)\n",
            "Requirement already satisfied: idna<4,>=2.5 in /usr/local/lib/python3.11/dist-packages (from requests->dash) (3.10)\n",
            "Requirement already satisfied: urllib3<3,>=1.21.1 in /usr/local/lib/python3.11/dist-packages (from requests->dash) (2.3.0)\n",
            "Requirement already satisfied: certifi>=2017.4.17 in /usr/local/lib/python3.11/dist-packages (from requests->dash) (2025.1.31)\n",
            "Requirement already satisfied: six>=1.7.0 in /usr/local/lib/python3.11/dist-packages (from retrying->dash) (1.17.0)\n",
            "Downloading dash-3.0.1-py3-none-any.whl (8.0 MB)\n",
            "\u001b[2K   \u001b[90m━━━━━━━━━━━━━━━━━━━━━━━━━━━━━━━━━━━━━━━━\u001b[0m \u001b[32m8.0/8.0 MB\u001b[0m \u001b[31m33.3 MB/s\u001b[0m eta \u001b[36m0:00:00\u001b[0m\n",
            "\u001b[?25hDownloading flask-3.0.3-py3-none-any.whl (101 kB)\n",
            "\u001b[2K   \u001b[90m━━━━━━━━━━━━━━━━━━━━━━━━━━━━━━━━━━━━━━━━\u001b[0m \u001b[32m101.7/101.7 kB\u001b[0m \u001b[31m3.8 MB/s\u001b[0m eta \u001b[36m0:00:00\u001b[0m\n",
            "\u001b[?25hDownloading werkzeug-3.0.6-py3-none-any.whl (227 kB)\n",
            "\u001b[2K   \u001b[90m━━━━━━━━━━━━━━━━━━━━━━━━━━━━━━━━━━━━━━━━\u001b[0m \u001b[32m228.0/228.0 kB\u001b[0m \u001b[31m10.9 MB/s\u001b[0m eta \u001b[36m0:00:00\u001b[0m\n",
            "\u001b[?25hDownloading retrying-1.3.4-py3-none-any.whl (11 kB)\n",
            "Installing collected packages: Werkzeug, retrying, Flask, dash\n",
            "  Attempting uninstall: Werkzeug\n",
            "    Found existing installation: Werkzeug 3.1.3\n",
            "    Uninstalling Werkzeug-3.1.3:\n",
            "      Successfully uninstalled Werkzeug-3.1.3\n",
            "  Attempting uninstall: Flask\n",
            "    Found existing installation: Flask 3.1.0\n",
            "    Uninstalling Flask-3.1.0:\n",
            "      Successfully uninstalled Flask-3.1.0\n",
            "Successfully installed Flask-3.0.3 Werkzeug-3.0.6 dash-3.0.1 retrying-1.3.4\n"
          ]
        }
      ]
    },
    {
      "cell_type": "code",
      "execution_count": 10,
      "metadata": {
        "id": "TO8Z8QIxNAlx"
      },
      "outputs": [],
      "source": [
        "import dash\n",
        "from dash import Dash, html, dcc, callback, Output, Input, dash_table\n",
        "import plotly.express as px\n",
        "import pandas as pd"
      ]
    },
    {
      "cell_type": "code",
      "source": [
        "\n",
        "df = pd.DataFrame({\n",
        "    \"country\": [\"Brazil\", \"Germany\", \"Italy\", \"Argentina\", \"France\", \"Uruguay\", \"England\", \"Spain\", \"Netherlands\", \"Hungary\", \"Czechoslovakia\", \"Sweden\", \"Croatia\"],\n",
        "    \"wins\": [5, 4, 4, 3, 2, 2, 1, 1, 0, 0, 0, 0, 0],\n",
        "    \"years\": [\n",
        "        [\"1958\", \"1962\", \"1970\", \"1994\", \"2002\"],\n",
        "        [\"1954\", \"1974\", \"1990\", \"2014\"],\n",
        "        [\"1934\", \"1938\", \"1982\", \"2006\"],\n",
        "        [\"1978\", \"1986\", \"2022\"],\n",
        "        [\"1998\", \"2018\"],\n",
        "        [\"1930\", \"1950\"],\n",
        "        [\"1966\"],\n",
        "        [\"2010\"],\n",
        "        [], [], [], [], []\n",
        "    ]\n",
        "})\n",
        "\n",
        "year_winners = {year: country for country, years in zip(df[\"country\"], df[\"years\"]) for year in years}\n",
        "\n",
        "\n",
        "app = Dash()\n",
        "\n",
        "app.layout = html.Div([\n",
        "    html.H1(\"FIFA World Cup Winners Dashboard\"),\n",
        "\n",
        "    #dropdown for country selection\n",
        "    html.Label(\"Select a Country:\"),\n",
        "    dcc.Dropdown(\n",
        "        id='country-dropdown',\n",
        "        options=[{'label': c, 'value': c} for c in df[\"country\"]],\n",
        "        value='Brazil'\n",
        "    ),\n",
        "    html.Div(id='country-output'),\n",
        "\n",
        "    #dropdown for years\n",
        "    html.Label(\"Select a Year:\"),\n",
        "    dcc.Dropdown(\n",
        "        id='year-dropdown',\n",
        "        options=[{'label': y, 'value': y} for y in year_winners.keys()],\n",
        "        value='2022'\n",
        "    ),\n",
        "    html.Div(id='year-output'),\n",
        "\n",
        "\n",
        "    #choropleth map\n",
        "    dcc.Graph(id='choropleth-map'),\n",
        "\n",
        "\n",
        "])\n",
        "\n",
        "@app.callback(\n",
        "    [Output('choropleth-map', 'figure'),\n",
        "     Output('country-output', 'children'),\n",
        "     Output('year-output', 'children')],\n",
        "    [Input('country-dropdown', 'value'),\n",
        "     Input('year-dropdown', 'value')]\n",
        ")\n",
        "def update_graph(selected_country, selected_year):\n",
        "    #choropleth\n",
        "    fig = px.choropleth(\n",
        "        df,\n",
        "        locations=\"country\",\n",
        "        locationmode=\"country names\",\n",
        "        color=\"wins\",\n",
        "        title=\"World Cup Winners by Country\",\n",
        "        color_continuous_scale=\"Blues\"\n",
        "    )\n",
        "\n",
        "    #get country wins and print\n",
        "    wins = df[df[\"country\"] == selected_country][\"wins\"].values[0]\n",
        "    country_output = f\"{selected_country} has won the World Cup {wins} times.\"\n",
        "\n",
        "    #get selected year and correlated winner\n",
        "    winner = year_winners.get(selected_year, \"No data available\")\n",
        "    year_output = f\"The winner of the {selected_year} World Cup was {winner}.\"\n",
        "\n",
        "    return fig, country_output, year_output\n",
        "\n",
        "if __name__ == '__main__':\n",
        "    app.run(debug=True)\n"
      ],
      "metadata": {
        "colab": {
          "base_uri": "https://localhost:8080/",
          "height": 672
        },
        "id": "Tf5ZdIlwPWXH",
        "outputId": "e5aa6a35-49e0-4df9-f7cd-a8c4c0c2d91c"
      },
      "execution_count": 17,
      "outputs": [
        {
          "output_type": "display_data",
          "data": {
            "text/plain": [
              "<IPython.core.display.Javascript object>"
            ],
            "application/javascript": [
              "(async (port, path, width, height, cache, element) => {\n",
              "    if (!google.colab.kernel.accessAllowed && !cache) {\n",
              "      return;\n",
              "    }\n",
              "    element.appendChild(document.createTextNode(''));\n",
              "    const url = await google.colab.kernel.proxyPort(port, {cache});\n",
              "    const iframe = document.createElement('iframe');\n",
              "    iframe.src = new URL(path, url).toString();\n",
              "    iframe.height = height;\n",
              "    iframe.width = width;\n",
              "    iframe.style.border = 0;\n",
              "    iframe.allow = [\n",
              "        'accelerometer',\n",
              "        'autoplay',\n",
              "        'camera',\n",
              "        'clipboard-read',\n",
              "        'clipboard-write',\n",
              "        'gyroscope',\n",
              "        'magnetometer',\n",
              "        'microphone',\n",
              "        'serial',\n",
              "        'usb',\n",
              "        'xr-spatial-tracking',\n",
              "    ].join('; ');\n",
              "    element.appendChild(iframe);\n",
              "  })(8050, \"/\", \"100%\", 650, false, window.element)"
            ]
          },
          "metadata": {}
        }
      ]
    },
    {
      "cell_type": "code",
      "source": [],
      "metadata": {
        "id": "HoPMJZhZPm_Y"
      },
      "execution_count": null,
      "outputs": []
    }
  ]
}